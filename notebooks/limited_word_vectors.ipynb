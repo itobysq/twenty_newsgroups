{
 "cells": [
  {
   "cell_type": "markdown",
   "metadata": {},
   "source": [
    "# Limited Word vectors\n",
    "Optimize the word verctors for the 20 newsgroups"
   ]
  },
  {
   "cell_type": "markdown",
   "metadata": {},
   "source": [
    "## Imports"
   ]
  },
  {
   "cell_type": "code",
   "execution_count": 1,
   "metadata": {},
   "outputs": [],
   "source": [
    "import numpy as np\n",
    "import pandas as pd\n",
    "import seaborn as sns\n",
    "import matplotlib.pyplot as plt\n",
    "%matplotlib inline"
   ]
  },
  {
   "cell_type": "code",
   "execution_count": 2,
   "metadata": {},
   "outputs": [],
   "source": [
    "import nltk\n",
    "from nltk import word_tokenize\n",
    "from nltk import word_tokenize\n",
    "from nltk.stem import WordNetLemmatizer\n",
    "from nltk.stem import WordNetLemmatizer"
   ]
  },
  {
   "cell_type": "code",
   "execution_count": 3,
   "metadata": {},
   "outputs": [],
   "source": [
    "from sklearn.datasets import fetch_20newsgroups"
   ]
  },
  {
   "cell_type": "code",
   "execution_count": 4,
   "metadata": {},
   "outputs": [],
   "source": [
    "import gensim\n",
    "import re"
   ]
  },
  {
   "cell_type": "markdown",
   "metadata": {},
   "source": [
    "## Helper functions"
   ]
  },
  {
   "cell_type": "code",
   "execution_count": 5,
   "metadata": {},
   "outputs": [],
   "source": [
    "class LemmaTokenizer(object):\n",
    "    def __init__(self):\n",
    "         self.wnl = WordNetLemmatizer()\n",
    "    def __call__(self, doc):\n",
    "         return [self.wnl.lemmatize(t) for t in word_tokenize(doc)]"
   ]
  },
  {
   "cell_type": "code",
   "execution_count": 6,
   "metadata": {},
   "outputs": [],
   "source": [
    "def build_model(sentences, size):\n",
    "    corpus_words = []\n",
    "    for session in sentences:\n",
    "        words = word_tokenize(session)\n",
    "        session_words = []\n",
    "        for word in words:\n",
    "            regex_match = re.match(r\"\\b[a-zA-Z]+\\b\", word)\n",
    "            if (regex_match is not None) & (len(word) > 1) & (word not in stopwords):\n",
    "                session_words.append(wnl.lemmatize(word.lower()))\n",
    "        corpus_words.append(session_words)\n",
    "    model = gensim.models.Word2Vec(corpus_words, size=size, window=5, seed=42,\n",
    "                                   min_count=2, workers=4)\n",
    "    return model, corpus_words"
   ]
  },
  {
   "cell_type": "code",
   "execution_count": 7,
   "metadata": {},
   "outputs": [],
   "source": [
    "def average_vectors(word_list, word2vec_dict, vec_length=5):\n",
    "    avg_vector = np.zeros(vec_length)\n",
    "    if len(word_list) == 0:\n",
    "        return avg_vector\n",
    "    for word in word_list:\n",
    "        if word in word2vec_dict.keys():\n",
    "            avg_vector = np.add(word2vec_dict[word], avg_vector)\n",
    "    return np.divide(avg_vector, len(word_list))"
   ]
  },
  {
   "cell_type": "code",
   "execution_count": 10,
   "metadata": {},
   "outputs": [],
   "source": [
    "from nltk.corpus import stopwords\n",
    "stopwords = set(stopwords.words('english'))\n",
    "wnl = WordNetLemmatizer()"
   ]
  },
  {
   "cell_type": "markdown",
   "metadata": {
    "collapsed": true
   },
   "source": [
    "## Rreduce data to just the content of the message"
   ]
  },
  {
   "cell_type": "code",
   "execution_count": 11,
   "metadata": {},
   "outputs": [],
   "source": [
    "categories = ['rec.motorcycles', 'rec.autos']\n",
    "newsgroups_train = fetch_20newsgroups(subset='train',\n",
    "                                      categories=categories,\n",
    "                                      remove=('headers', 'footers', 'quotes'))\n",
    "newsgroups_test = fetch_20newsgroups(subset='test',\n",
    "                                     remove=('headers', 'footers', 'quotes'),\n",
    "                                      categories=categories)"
   ]
  },
  {
   "cell_type": "code",
   "execution_count": 12,
   "metadata": {},
   "outputs": [],
   "source": [
    "df = pd.DataFrame({'msg': newsgroups_train.data,\n",
    "                   'label': newsgroups_train.target})"
   ]
  },
  {
   "cell_type": "code",
   "execution_count": 13,
   "metadata": {},
   "outputs": [
    {
     "data": {
      "text/html": [
       "<div>\n",
       "<style scoped>\n",
       "    .dataframe tbody tr th:only-of-type {\n",
       "        vertical-align: middle;\n",
       "    }\n",
       "\n",
       "    .dataframe tbody tr th {\n",
       "        vertical-align: top;\n",
       "    }\n",
       "\n",
       "    .dataframe thead th {\n",
       "        text-align: right;\n",
       "    }\n",
       "</style>\n",
       "<table border=\"1\" class=\"dataframe\">\n",
       "  <thead>\n",
       "    <tr style=\"text-align: right;\">\n",
       "      <th></th>\n",
       "      <th>label</th>\n",
       "      <th>msg</th>\n",
       "    </tr>\n",
       "  </thead>\n",
       "  <tbody>\n",
       "    <tr>\n",
       "      <th>0</th>\n",
       "      <td>0</td>\n",
       "      <td>Stuff deleted...</td>\n",
       "    </tr>\n",
       "    <tr>\n",
       "      <th>1</th>\n",
       "      <td>1</td>\n",
       "      <td>This morning a truck that had been within my s...</td>\n",
       "    </tr>\n",
       "    <tr>\n",
       "      <th>2</th>\n",
       "      <td>1</td>\n",
       "      <td>So how do I steer when my hands aren't on the ...</td>\n",
       "    </tr>\n",
       "    <tr>\n",
       "      <th>3</th>\n",
       "      <td>0</td>\n",
       "      <td>\\n: From: OPDBS@vm.cc.latech.edu\\n: Subject: T...</td>\n",
       "    </tr>\n",
       "    <tr>\n",
       "      <th>4</th>\n",
       "      <td>0</td>\n",
       "      <td>sorry about that last post, my server neglecte...</td>\n",
       "    </tr>\n",
       "    <tr>\n",
       "      <th>5</th>\n",
       "      <td>1</td>\n",
       "      <td>\\n1 hr/drink for the first 4 drinks.\\n1.5 hour...</td>\n",
       "    </tr>\n",
       "    <tr>\n",
       "      <th>6</th>\n",
       "      <td>1</td>\n",
       "      <td></td>\n",
       "    </tr>\n",
       "    <tr>\n",
       "      <th>7</th>\n",
       "      <td>0</td>\n",
       "      <td>From article &lt;1993Apr5.200048.23421@ucsu.Color...</td>\n",
       "    </tr>\n",
       "    <tr>\n",
       "      <th>8</th>\n",
       "      <td>0</td>\n",
       "      <td>Hi Netters\\n\\tI want to know if 13500 (w/o tax...</td>\n",
       "    </tr>\n",
       "    <tr>\n",
       "      <th>9</th>\n",
       "      <td>1</td>\n",
       "      <td></td>\n",
       "    </tr>\n",
       "  </tbody>\n",
       "</table>\n",
       "</div>"
      ],
      "text/plain": [
       "   label                                                msg\n",
       "0      0                                   Stuff deleted...\n",
       "1      1  This morning a truck that had been within my s...\n",
       "2      1  So how do I steer when my hands aren't on the ...\n",
       "3      0  \\n: From: OPDBS@vm.cc.latech.edu\\n: Subject: T...\n",
       "4      0  sorry about that last post, my server neglecte...\n",
       "5      1  \\n1 hr/drink for the first 4 drinks.\\n1.5 hour...\n",
       "6      1                                                   \n",
       "7      0  From article <1993Apr5.200048.23421@ucsu.Color...\n",
       "8      0  Hi Netters\\n\\tI want to know if 13500 (w/o tax...\n",
       "9      1                                                   "
      ]
     },
     "execution_count": 13,
     "metadata": {},
     "output_type": "execute_result"
    }
   ],
   "source": [
    "df.head(10)"
   ]
  },
  {
   "cell_type": "code",
   "execution_count": 14,
   "metadata": {},
   "outputs": [
    {
     "data": {
      "text/plain": [
       "\"So how do I steer when my hands aren't on the bars? (Open Budweiser in left \\nhand, Camel cigarette in the right, no feet allowed.) If I lean, and the \\nbike turns, am I countersteering? Is countersteering like benchracing only \\nwith a taller seat, so your feet aren't on the floor?\""
      ]
     },
     "execution_count": 14,
     "metadata": {},
     "output_type": "execute_result"
    }
   ],
   "source": [
    "df.msg.iloc[2]"
   ]
  },
  {
   "cell_type": "code",
   "execution_count": 15,
   "metadata": {},
   "outputs": [
    {
     "data": {
      "text/plain": [
       "'Hi Netters\\n\\tI want to know if 13500 (w/o tax) is a good deal for 1993 Mazda 626 DX\\nHow is the performance review so far on Mazda 626. Is it a good buy?\\nPlease reply to me as I don\\'t read this group often.\\n\\nThanks In advance\\nRavi\\n--\\nRavi Kiran Puvvala\\t\\t| \"The purpose of education is not merely, \\nravi@merlin.dev.cdx.mot.com\\t|  the assimilation of facts but blow all \\nMotorola Codex, Boston  MA \\t|  the money\" - Ravi Puvvala'"
      ]
     },
     "execution_count": 15,
     "metadata": {},
     "output_type": "execute_result"
    }
   ],
   "source": [
    "df.msg.iloc[8]"
   ]
  },
  {
   "cell_type": "markdown",
   "metadata": {},
   "source": [
    "Aggregate each email into an average of the 100 word embeddings"
   ]
  },
  {
   "cell_type": "code",
   "execution_count": 16,
   "metadata": {},
   "outputs": [],
   "source": [
    "model_100, corpus_words = build_model(newsgroups_train.data, 100)"
   ]
  },
  {
   "cell_type": "code",
   "execution_count": 17,
   "metadata": {},
   "outputs": [
    {
     "data": {
      "text/plain": [
       "'wave'"
      ]
     },
     "execution_count": 17,
     "metadata": {},
     "output_type": "execute_result"
    }
   ],
   "source": [
    "model_100.wv.doesnt_match(['wheel', 'car', 'wave'])"
   ]
  },
  {
   "cell_type": "code",
   "execution_count": 18,
   "metadata": {},
   "outputs": [],
   "source": [
    "from sklearn.svm import SVC\n",
    "from sklearn.model_selection import StratifiedKFold"
   ]
  },
  {
   "cell_type": "code",
   "execution_count": 19,
   "metadata": {},
   "outputs": [],
   "source": [
    "skf = StratifiedKFold(n_splits=4)"
   ]
  },
  {
   "cell_type": "markdown",
   "metadata": {},
   "source": [
    "My hypothesis is that large vectors will overfit the model. So if we have a dataset of 100 words, embeddings of lower dimensionality would be better. Want to show that as you make the model more comple, you lose generality"
   ]
  },
  {
   "cell_type": "code",
   "execution_count": 20,
   "metadata": {},
   "outputs": [],
   "source": [
    "from sklearn.model_selection import train_test_split, StratifiedKFold"
   ]
  },
  {
   "cell_type": "code",
   "execution_count": 21,
   "metadata": {},
   "outputs": [],
   "source": [
    "X = newsgroups_train.data\n",
    "y = newsgroups_train.target\n",
    "X_majority, X_sample, y_majority, y_sample = train_test_split(X, y, test_size=0.8, random_state=42)"
   ]
  },
  {
   "cell_type": "code",
   "execution_count": 22,
   "metadata": {},
   "outputs": [
    {
     "data": {
      "text/plain": [
       "954"
      ]
     },
     "execution_count": 22,
     "metadata": {},
     "output_type": "execute_result"
    }
   ],
   "source": [
    "len(X_sample)"
   ]
  },
  {
   "cell_type": "markdown",
   "metadata": {},
   "source": [
    "Iterate over the size of the word vectors. Should see low score, then a max, then a decrease"
   ]
  },
  {
   "cell_type": "code",
   "execution_count": 23,
   "metadata": {},
   "outputs": [],
   "source": [
    "X_sample = np.array(X_sample)\n",
    "y_sample = np.array(y_sample)"
   ]
  },
  {
   "cell_type": "code",
   "execution_count": 24,
   "metadata": {},
   "outputs": [],
   "source": [
    "from sklearn.svm import SVC"
   ]
  },
  {
   "cell_type": "code",
   "execution_count": 25,
   "metadata": {},
   "outputs": [],
   "source": [
    "svm = SVC(C=1e6)"
   ]
  },
  {
   "cell_type": "code",
   "execution_count": 26,
   "metadata": {},
   "outputs": [],
   "source": [
    "skf = StratifiedKFold(n_splits=4)"
   ]
  },
  {
   "cell_type": "code",
   "execution_count": 29,
   "metadata": {},
   "outputs": [
    {
     "name": "stdout",
     "output_type": "stream",
     "text": [
      "715 715\n",
      "715 715\n",
      "716 716\n",
      "716 716\n"
     ]
    }
   ],
   "source": [
    "for train_index, test_index in skf.split(X_sample, y_sample):\n",
    "    X_train, X_test = X_sample[train_index], X_sample[test_index]\n",
    "    \n",
    "    y_train, y_test = y_sample[train_index], y_sample[test_index]\n",
    "    print(len(X_train), len(y_train))"
   ]
  },
  {
   "cell_type": "code",
   "execution_count": 30,
   "metadata": {},
   "outputs": [],
   "source": [
    "w2v = dict(zip(model_100.wv.index2word, model_100.wv.vectors))\n",
    "vectors = []\n",
    "for email in X_train:\n",
    "    email_vector = average_vectors(email, w2v, vec_length=100)\n",
    "    vectors.append(email_vector)"
   ]
  },
  {
   "cell_type": "code",
   "execution_count": 31,
   "metadata": {},
   "outputs": [
    {
     "data": {
      "text/plain": [
       "716"
      ]
     },
     "execution_count": 31,
     "metadata": {},
     "output_type": "execute_result"
    }
   ],
   "source": [
    "len(vectors)"
   ]
  },
  {
   "cell_type": "code",
   "execution_count": 33,
   "metadata": {},
   "outputs": [
    {
     "data": {
      "text/plain": [
       "'wave'"
      ]
     },
     "execution_count": 33,
     "metadata": {},
     "output_type": "execute_result"
    }
   ],
   "source": [
    "model_100.wv.doesnt_match(['wheel', 'car', 'wave'])"
   ]
  },
  {
   "cell_type": "code",
   "execution_count": 34,
   "metadata": {},
   "outputs": [],
   "source": [
    "clf = svm.fit(vectors, y_train)"
   ]
  },
  {
   "cell_type": "code",
   "execution_count": 35,
   "metadata": {},
   "outputs": [
    {
     "data": {
      "text/plain": [
       "0.6019553072625698"
      ]
     },
     "execution_count": 35,
     "metadata": {},
     "output_type": "execute_result"
    }
   ],
   "source": [
    "clf.score(vectors, y_train)"
   ]
  },
  {
   "cell_type": "markdown",
   "metadata": {},
   "source": [
    "Why does this model suck so much?"
   ]
  },
  {
   "cell_type": "code",
   "execution_count": 36,
   "metadata": {},
   "outputs": [],
   "source": [
    "from sklearn.model_selection import validation_curve"
   ]
  },
  {
   "cell_type": "code",
   "execution_count": 37,
   "metadata": {},
   "outputs": [
    {
     "data": {
      "text/plain": [
       "716"
      ]
     },
     "execution_count": 37,
     "metadata": {},
     "output_type": "execute_result"
    }
   ],
   "source": [
    "len(y_train)"
   ]
  },
  {
   "cell_type": "code",
   "execution_count": 44,
   "metadata": {},
   "outputs": [
    {
     "name": "stdout",
     "output_type": "stream",
     "text": [
      "[CV] C=1.0 ...........................................................\n",
      "[CV] C=100.0 .........................................................\n",
      "[CV] ............................................ C=1.0, total=   0.0s\n",
      "[CV] C=10000.0 .......................................................\n",
      "[CV] .......................................... C=100.0, total=   0.0s\n",
      "[CV] C=1000000.0 .....................................................\n",
      "[CV] ........................................ C=10000.0, total=   0.0s\n",
      "[CV] C=100000000.0 ...................................................\n",
      "[CV] ...................................... C=1000000.0, total=   0.1s\n",
      "[CV] C=1.0 ...........................................................\n",
      "[CV] ............................................ C=1.0, total=   0.0s\n",
      "[CV] C=100.0 .........................................................\n",
      "[CV] .................................... C=100000000.0, total=   0.1s\n",
      "[CV] C=10000.0 .......................................................\n",
      "[CV] .......................................... C=100.0, total=   0.0s\n",
      "[CV] C=1000000.0 .....................................................\n",
      "[CV] ........................................ C=10000.0, total=   0.0s\n",
      "[CV] C=100000000.0 ...................................................\n",
      "[CV] ...................................... C=1000000.0, total=   0.1s\n",
      "[CV] C=1.0 ...........................................................\n",
      "[CV] .................................... C=100000000.0, total=   0.1s\n",
      "[CV] ............................................ C=1.0, total=   0.0s\n",
      "[CV] C=100.0 .........................................................\n",
      "[CV] C=10000.0 .......................................................\n",
      "[CV] .......................................... C=100.0, total=   0.0s\n",
      "[CV] C=1000000.0 .....................................................\n",
      "[CV] ........................................ C=10000.0, total=   0.0s\n",
      "[CV] C=100000000.0 ...................................................\n",
      "[CV] ...................................... C=1000000.0, total=   0.1s\n",
      "[CV] C=1.0 ...........................................................\n"
     ]
    },
    {
     "name": "stderr",
     "output_type": "stream",
     "text": [
      "[Parallel(n_jobs=2)]: Done  10 out of  20 | elapsed:    0.6s remaining:    0.6s\n"
     ]
    },
    {
     "name": "stdout",
     "output_type": "stream",
     "text": [
      "[CV] .................................... C=100000000.0, total=   0.1s\n",
      "[CV] C=100.0 .........................................................\n",
      "[CV] ............................................ C=1.0, total=   0.0s\n",
      "[CV] C=10000.0 .......................................................\n",
      "[CV] .......................................... C=100.0, total=   0.0s\n",
      "[CV] C=1000000.0 .....................................................\n",
      "[CV] ........................................ C=10000.0, total=   0.0s\n",
      "[CV] C=100000000.0 ...................................................\n",
      "[CV] ...................................... C=1000000.0, total=   0.1s\n",
      "[CV] .................................... C=100000000.0, total=   0.2s\n"
     ]
    },
    {
     "name": "stderr",
     "output_type": "stream",
     "text": [
      "[Parallel(n_jobs=2)]: Done  20 out of  20 | elapsed:    1.1s finished\n"
     ]
    }
   ],
   "source": [
    "reg_params = np.logspace(0, 8, num=5)\n",
    "train_scores, valid_scores = validation_curve(clf, \n",
    "                                              vectors, y_train, \"C\",\n",
    "                                              reg_params,\n",
    "                                              cv=4,\n",
    "                                              n_jobs=2,\n",
    "                                              verbose=2\n",
    "                                              )"
   ]
  },
  {
   "cell_type": "code",
   "execution_count": 45,
   "metadata": {},
   "outputs": [],
   "source": [
    "test_scores = valid_scores\n",
    "train_sizes = reg_params"
   ]
  },
  {
   "cell_type": "code",
   "execution_count": 46,
   "metadata": {},
   "outputs": [
    {
     "data": {
      "image/png": "[encoded data removed]",
      "text/plain": [
       "<matplotlib.figure.Figure at 0x11ad69a58>"
      ]
     },
     "metadata": {},
     "output_type": "display_data"
    }
   ],
   "source": [
    "plt.figure()\n",
    "plt.title('Validation curve')\n",
    "plt.semilogx()\n",
    "plt.xlabel('Regularization_strength')\n",
    "plt.ylabel('Score')\n",
    "train_scores_mean = np.mean(train_scores, axis=1)\n",
    "train_scores_std = np.std(train_scores, axis=1)\n",
    "test_scores_mean = np.mean(test_scores, axis=1)\n",
    "test_scores_std = np.std(test_scores, axis=1)\n",
    "plt.grid()\n",
    "\n",
    "plt.fill_between(train_sizes, train_scores_mean - train_scores_std,\n",
    "                 train_scores_mean + train_scores_std, alpha=0.1,\n",
    "                 color=\"r\")\n",
    "plt.fill_between(train_sizes, test_scores_mean - test_scores_std,\n",
    "                 test_scores_mean + test_scores_std, alpha=0.1, color=\"g\")\n",
    "plt.plot(train_sizes, train_scores_mean, 'o-', color=\"r\",\n",
    "         label=\"Training score\")\n",
    "plt.plot(train_sizes, test_scores_mean, 'o-', color=\"g\",\n",
    "         label=\"Cross-validation score\")\n",
    "plt.legend(loc=\"best\")\n",
    "plt.savefig('../docs/small_data_regularization_curve.png')\n",
    "plt.show()"
   ]
  },
  {
   "cell_type": "code",
   "execution_count": null,
   "metadata": {},
   "outputs": [],
   "source": [
    "for n_words in range(20, 100, 20):\n",
    "    model, corpus_words = build_model(X_sample, n_words)\n",
    "    skf = StratifiedKFold(n_splits=4)\n",
    "    # evaluate model performance on 4 fold cross validation\n",
    "    for train_index, test_index in skf.split(X_sample, y_sample):\n",
    "        X_train, X_test = X_sample[train_index], X_sample[test_index]\n",
    "        y_train, y_test = y_sample[train_index], y_sample[test_index]\n",
    "        w2v = dict(zip(model.wv.index2word, model.wv.vectors))\n",
    "        X_train = []\n",
    "        for email in X_train:\n",
    "            email_vector = average_vectors(email, w2v, vec_length=100)\n",
    "            vectors.append(email_vector)\n",
    "            svm = SVC(C=1e6)\n",
    "            clf = svm.fit(X_train, y_train)\n",
    "        "
   ]
  },
  {
   "cell_type": "code",
   "execution_count": null,
   "metadata": {},
   "outputs": [],
   "source": [
    "model_100, corpus_words = build_model(small_df.data, 100)\n",
    "vectors = [] \n",
    "for email in corpus_words:\n",
    "    email_vector = average_vectors(email, w2v, vec_length=100)\n",
    "    vectors.append(email_vector)"
   ]
  },
  {
   "cell_type": "code",
   "execution_count": null,
   "metadata": {},
   "outputs": [],
   "source": [
    "for data_size in range(200, 1000, 200):\n",
    "    data_sample = df.sample(n=data_size, random_state=42)\n",
    "    model_100, corpus_words = build_model(newsgroups_train.data, 100)\n",
    "    vectors = []\n",
    "    for email in corpus_words:\n",
    "        email_vector = average_vectors(email, w2v, vec_length=100)\n",
    "        vectors.append(email_vector)"
   ]
  },
  {
   "cell_type": "code",
   "execution_count": null,
   "metadata": {},
   "outputs": [],
   "source": [
    "from nltk.corpus import stopwords\n",
    "stopwords = set(stopwords.words('english'))\n",
    "wnl = WordNetLemmatizer()"
   ]
  },
  {
   "cell_type": "code",
   "execution_count": null,
   "metadata": {},
   "outputs": [],
   "source": [
    "model_100, corpus_words = build_model(newsgroups_train.data, 100)"
   ]
  },
  {
   "cell_type": "code",
   "execution_count": null,
   "metadata": {},
   "outputs": [],
   "source": [
    "corpus_words"
   ]
  },
  {
   "cell_type": "code",
   "execution_count": null,
   "metadata": {},
   "outputs": [],
   "source": [
    "len(model_100.wv.vocab)"
   ]
  },
  {
   "cell_type": "code",
   "execution_count": null,
   "metadata": {},
   "outputs": [],
   "source": [
    "model_100.wv.doesnt_match(['wheel', 'car', 'wave'])"
   ]
  },
  {
   "cell_type": "code",
   "execution_count": null,
   "metadata": {},
   "outputs": [],
   "source": [
    "w2v = dict(zip(model_100.wv.index2word, model_100.wv.vectors))"
   ]
  },
  {
   "cell_type": "markdown",
   "metadata": {},
   "source": [
    "## Vectorize the contents of the email"
   ]
  },
  {
   "cell_type": "code",
   "execution_count": null,
   "metadata": {},
   "outputs": [],
   "source": [
    "vectors = []\n",
    "for email in corpus_words:\n",
    "    email_vector = average_vectors(email, w2v, vec_length=100)\n",
    "    vectors.append(email_vector)"
   ]
  },
  {
   "cell_type": "code",
   "execution_count": null,
   "metadata": {},
   "outputs": [],
   "source": [
    "matrix = np.array(vectors)\n",
    "matrix.shape"
   ]
  },
  {
   "cell_type": "code",
   "execution_count": null,
   "metadata": {},
   "outputs": [],
   "source": [
    "from sklearn.decomposition import PCA\n",
    "sns.set()"
   ]
  },
  {
   "cell_type": "code",
   "execution_count": null,
   "metadata": {},
   "outputs": [],
   "source": [
    "pca = PCA(n_components=2)"
   ]
  },
  {
   "cell_type": "code",
   "execution_count": null,
   "metadata": {},
   "outputs": [],
   "source": [
    "twod = pca.fit_transform(matrix)"
   ]
  },
  {
   "cell_type": "code",
   "execution_count": null,
   "metadata": {},
   "outputs": [],
   "source": [
    "newsgroups_train.target"
   ]
  },
  {
   "cell_type": "code",
   "execution_count": null,
   "metadata": {},
   "outputs": [],
   "source": [
    "matrix.shape"
   ]
  },
  {
   "cell_type": "code",
   "execution_count": null,
   "metadata": {},
   "outputs": [],
   "source": [
    "car_emails = twod[np.where(newsgroups_train.target == 0), :][0, :, :]\n",
    "moto_emails = twod[np.where(newsgroups_train.target == 1), :][0, :, :]"
   ]
  },
  {
   "cell_type": "code",
   "execution_count": null,
   "metadata": {},
   "outputs": [],
   "source": [
    "car_emails.shape"
   ]
  },
  {
   "cell_type": "markdown",
   "metadata": {},
   "source": [
    "Plot the vectorization of car and moto emails"
   ]
  },
  {
   "cell_type": "code",
   "execution_count": null,
   "metadata": {},
   "outputs": [],
   "source": [
    "plt.scatter(x = car_emails[:, 0], y=car_emails[:, 1], c='r')\n",
    "plt.scatter(x = moto_emails[:, 0], y=moto_emails[:, 1], c='b')"
   ]
  },
  {
   "cell_type": "markdown",
   "metadata": {},
   "source": [
    "Not very sperable, see if TSNE can work as inspirded by https://blog.insightdatascience.com/automating-customer-support-when-you-lack-data-e9975fd8a053 "
   ]
  },
  {
   "cell_type": "code",
   "execution_count": null,
   "metadata": {},
   "outputs": [],
   "source": [
    "from sklearn.manifold import TSNE"
   ]
  },
  {
   "cell_type": "code",
   "execution_count": null,
   "metadata": {},
   "outputs": [],
   "source": [
    "tsne = TSNE(n_components=2, perplexity=50, early_exaggeration=12,\n",
    "            learning_rate=100, n_iter=1000, n_iter_without_progress=300,\n",
    "            verbose=1, method='barnes_hut')"
   ]
  },
  {
   "cell_type": "code",
   "execution_count": null,
   "metadata": {},
   "outputs": [],
   "source": [
    "tsne_twod = tsne.fit_transform(matrix)"
   ]
  },
  {
   "cell_type": "code",
   "execution_count": null,
   "metadata": {},
   "outputs": [],
   "source": [
    "car_emails = tsne_twod[np.where(newsgroups_train.target == 0), :][0, :, :]\n",
    "moto_emails = tsne_twod[np.where(newsgroups_train.target == 1), :][0, :, :]"
   ]
  },
  {
   "cell_type": "code",
   "execution_count": null,
   "metadata": {},
   "outputs": [],
   "source": [
    "plt.scatter(x = car_emails[:, 0], y=car_emails[:, 1], c='r')\n",
    "plt.scatter(x = moto_emails[:, 0], y=moto_emails[:, 1], c='b')"
   ]
  },
  {
   "cell_type": "markdown",
   "metadata": {},
   "source": [
    "## Plot the word embeddings\n",
    "Get the top 20 nouns and plot them"
   ]
  },
  {
   "cell_type": "code",
   "execution_count": null,
   "metadata": {},
   "outputs": [],
   "source": [
    "from collections import Counter"
   ]
  },
  {
   "cell_type": "code",
   "execution_count": null,
   "metadata": {},
   "outputs": [],
   "source": [
    "word_count = Counter()\n",
    "for doc in newsgroups_train.data:\n",
    "    word_list = [wnl.lemmatize(x.lower()) for x in doc.split() if x not in stopwords]\n",
    "    word_count = word_count + Counter(word_list)"
   ]
  },
  {
   "cell_type": "code",
   "execution_count": null,
   "metadata": {},
   "outputs": [],
   "source": [
    "word_count.most_common(n=5)"
   ]
  },
  {
   "cell_type": "markdown",
   "metadata": {},
   "source": [
    "Not super helpful, hardcode the most important words"
   ]
  },
  {
   "cell_type": "markdown",
   "metadata": {},
   "source": [
    "### 2D word vectorization whent training"
   ]
  },
  {
   "cell_type": "code",
   "execution_count": null,
   "metadata": {},
   "outputs": [],
   "source": [
    "model_2, corpus_words = build_model(newsgroups_train.data, 2)"
   ]
  },
  {
   "cell_type": "code",
   "execution_count": null,
   "metadata": {},
   "outputs": [],
   "source": [
    "model_2.wv['motor']"
   ]
  },
  {
   "cell_type": "code",
   "execution_count": null,
   "metadata": {},
   "outputs": [],
   "source": [
    "labels = model_2.wv.vocab.keys()"
   ]
  },
  {
   "cell_type": "code",
   "execution_count": null,
   "metadata": {},
   "outputs": [],
   "source": [
    "car_words = ['motor', 'engine', 'wheel', 'tire', 'window', 'wiper',\n",
    "             'gasoline', 'fuel', 'speed', 'accelerate', 'throttle',\n",
    "             'pad', 'wave']"
   ]
  },
  {
   "cell_type": "code",
   "execution_count": null,
   "metadata": {},
   "outputs": [],
   "source": [
    "for word in car_words:\n",
    "    x = model_2.wv[word][0]\n",
    "    y = model_2.wv[word][1]\n",
    "    plt.plot(x, y, 'bo')\n",
    "    plt.text(x * (1+0.01), y*(1+0.01), word, fontsize=18)\n",
    "plt.show()    "
   ]
  },
  {
   "cell_type": "markdown",
   "metadata": {},
   "source": [
    "That doesn't make that much sense"
   ]
  },
  {
   "cell_type": "code",
   "execution_count": null,
   "metadata": {},
   "outputs": [],
   "source": [
    "model_100.wv.doesnt_match(['wheel', 'car', 'wave'])"
   ]
  },
  {
   "cell_type": "code",
   "execution_count": null,
   "metadata": {},
   "outputs": [],
   "source": [
    "model_2.wv.doesnt_match(['wheel', 'car', 'wave'])"
   ]
  },
  {
   "cell_type": "code",
   "execution_count": null,
   "metadata": {},
   "outputs": [],
   "source": []
  }
 ],
 "metadata": {
  "kernelspec": {
   "display_name": "Python 3",
   "language": "python",
   "name": "python3"
  },
  "language_info": {
   "codemirror_mode": {
    "name": "ipython",
    "version": 3
   },
   "file_extension": ".py",
   "mimetype": "text/x-python",
   "name": "python",
   "nbconvert_exporter": "python",
   "pygments_lexer": "ipython3",
   "version": "3.6.0"
  }
 },
 "nbformat": 4,
 "nbformat_minor": 2
}
